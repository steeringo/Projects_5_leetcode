{
 "cells": [
  {
   "cell_type": "markdown",
   "metadata": {},
   "source": [
    "## Working with functions"
   ]
  },
  {
   "cell_type": "code",
   "execution_count": 9,
   "metadata": {},
   "outputs": [
    {
     "name": "stdout",
     "output_type": "stream",
     "text": [
      "0.0\n"
     ]
    }
   ],
   "source": [
    "def time_between_dates(date1, date2):\n",
    "     print(date2 - date1)\n",
    "first_date = float(input(\"first date: \"))\n",
    "second_date = float(input(\"second date: \"))\n",
    "time_between_dates(first_date, second_date)\n"
   ]
  },
  {
   "cell_type": "code",
   "execution_count": 10,
   "metadata": {},
   "outputs": [
    {
     "name": "stdout",
     "output_type": "stream",
     "text": [
      "2   2   2\n",
      "the highest value:  2\n"
     ]
    }
   ],
   "source": [
    "def highest_value(*args):\n",
    "    the_highest = max(args)\n",
    "    print(x,' ', y, ' ', z)\n",
    "    print(\"the highest value: \",the_highest)\n",
    "\n",
    "x= int(input(\"First: \"))\n",
    "y= int(input(\"Second: \"))\n",
    "z= int(input(\"Third: \"))\n",
    "highest_value(x,y,z)"
   ]
  },
  {
   "cell_type": "markdown",
   "metadata": {},
   "source": [
    "**Better datetime counter in between**"
   ]
  },
  {
   "cell_type": "code",
   "execution_count": 11,
   "metadata": {},
   "outputs": [],
   "source": [
    "from datetime import datetime"
   ]
  },
  {
   "cell_type": "code",
   "execution_count": 12,
   "metadata": {},
   "outputs": [],
   "source": [
    "def time_between_dates(date1, date2):\n",
    "    date_form = \"%Y-%m-%d\"\n",
    "    date1 = datetime.strptime(date1, date_form)\n",
    "    date2 = datetime.strptime(date2, date_form)\n",
    "\n",
    "    diff = abs(date2 - date1)\n",
    "    return diff.days\n"
   ]
  },
  {
   "cell_type": "code",
   "execution_count": 15,
   "metadata": {},
   "outputs": [
    {
     "name": "stdout",
     "output_type": "stream",
     "text": [
      "204\n"
     ]
    }
   ],
   "source": [
    "date1 = '2022-01-01'\n",
    "date2 = '2022-07-24'\n",
    "\n",
    "wynik= time_between_dates(date1, date2)\n",
    "print(wynik)"
   ]
  },
  {
   "cell_type": "markdown",
   "metadata": {},
   "source": [
    "## Funkcja rekurencyjna"
   ]
  },
  {
   "cell_type": "code",
   "execution_count": 17,
   "metadata": {},
   "outputs": [
    {
     "data": {
      "text/plain": [
       "15"
      ]
     },
     "execution_count": 17,
     "metadata": {},
     "output_type": "execute_result"
    }
   ],
   "source": [
    "def sum_naturalnych(n):\n",
    "    if n == 1:\n",
    "        return 1\n",
    "    else:\n",
    "        return n + sum_naturalnych(n-1)\n",
    "\n",
    "sum_naturalnych(5)"
   ]
  },
  {
   "cell_type": "code",
   "execution_count": null,
   "metadata": {},
   "outputs": [],
   "source": []
  }
 ],
 "metadata": {
  "kernelspec": {
   "display_name": "Python 3",
   "language": "python",
   "name": "python3"
  },
  "language_info": {
   "codemirror_mode": {
    "name": "ipython",
    "version": 3
   },
   "file_extension": ".py",
   "mimetype": "text/x-python",
   "name": "python",
   "nbconvert_exporter": "python",
   "pygments_lexer": "ipython3",
   "version": "3.12.3"
  }
 },
 "nbformat": 4,
 "nbformat_minor": 2
}
